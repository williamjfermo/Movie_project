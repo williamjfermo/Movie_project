{
 "cells": [
  {
   "cell_type": "code",
   "execution_count": 1,
   "metadata": {},
   "outputs": [],
   "source": [
    "import pandas as pd  \n",
    "import random\n",
    "\n",
    "from time import sleep\n",
    "from requests import get\n",
    "from bs4 import BeautifulSoup as soup\n",
    "\n",
    "import difflib\n",
    "api_key = \"25e030646533a9beb625382caba1b356\""
   ]
  },
  {
   "cell_type": "code",
   "execution_count": 39,
   "metadata": {},
   "outputs": [],
   "source": [
    "#Function that retun the highest revenue movies data frame. Input: year,\n",
    "\n",
    "def moviesData(year):\n",
    "    urlDiscover='https://api.themoviedb.org/3/discover/movie?api_key='\n",
    "    searchkey='&primary_release_year='+str(year)+'&sort_by=revenue.desc'\n",
    "    response = requests.get(urlDiscover + api_key + searchkey)\n",
    "    revenueResult = response.json() \n",
    "    revenueResultLimit= revenueResult['results']\n",
    "\n",
    "    df = pd.DataFrame(columns=['Release_Date','ID','Title','Profit','Runtime','Genres'])\n",
    "    \n",
    "    \n",
    "    for film in revenueResultLimit:\n",
    "\n",
    "        filmDetails = requests.get('https://api.themoviedb.org/3/movie/'+ str(film['id']) +'?api_key='+ api_key +'&language=en-US')\n",
    "        filmDetails = filmDetails.json()\n",
    "        profit=filmDetails['revenue']-filmDetails['budget']\n",
    "        df.loc[len(df)]=[film['release_date'],film['id'],film['title'],profit, filmDetails['runtime'],genres(filmDetails)] # store title and revenue in our dataframe \n",
    "\n",
    "    return df"
   ]
  },
  {
   "cell_type": "code",
   "execution_count": 40,
   "metadata": {},
   "outputs": [],
   "source": [
    "def cast(filmID):\n",
    "    castList=[]\n",
    "    film=requests.get(\"http://api.themoviedb.org/3/movie/\"+str(filmID)+\"/casts?\"+'api_key='+api_key).json()\n",
    "    for i in film['cast'][:10]:\n",
    "        fullName=\" \".join(i['name'].split()[:3])\n",
    "        castList.append(fullName)\n",
    "    return castList\n",
    "    "
   ]
  },
  {
   "cell_type": "code",
   "execution_count": 41,
   "metadata": {},
   "outputs": [
    {
     "data": {
      "text/plain": [
       "['Dwayne Johnson',\n",
       " 'Naomie Harris',\n",
       " 'Malin Åkerman',\n",
       " 'Jeffrey Dean Morgan',\n",
       " 'Jake Lacy',\n",
       " 'Joe Manganiello',\n",
       " 'Marley Shelton',\n",
       " 'P. J. Byrne',\n",
       " 'Demetrius Grosse',\n",
       " 'Jack Quaid']"
      ]
     },
     "execution_count": 41,
     "metadata": {},
     "output_type": "execute_result"
    }
   ],
   "source": [
    "cast(427641)"
   ]
  },
  {
   "cell_type": "code",
   "execution_count": 43,
   "metadata": {},
   "outputs": [],
   "source": [
    "def genres(filmDetail):\n",
    "    genresList=[]\n",
    "    #for i in filmDetail['genres']:\n",
    "    #    genresList.append(i['name'])\n",
    "    return filmDetail['genres'][0]['name']"
   ]
  },
  {
   "cell_type": "code",
   "execution_count": 44,
   "metadata": {},
   "outputs": [
    {
     "data": {
      "text/html": [
       "<div>\n",
       "<style scoped>\n",
       "    .dataframe tbody tr th:only-of-type {\n",
       "        vertical-align: middle;\n",
       "    }\n",
       "\n",
       "    .dataframe tbody tr th {\n",
       "        vertical-align: top;\n",
       "    }\n",
       "\n",
       "    .dataframe thead th {\n",
       "        text-align: right;\n",
       "    }\n",
       "</style>\n",
       "<table border=\"1\" class=\"dataframe\">\n",
       "  <thead>\n",
       "    <tr style=\"text-align: right;\">\n",
       "      <th></th>\n",
       "      <th>Release_Date</th>\n",
       "      <th>ID</th>\n",
       "      <th>Title</th>\n",
       "      <th>Profit</th>\n",
       "      <th>Runtime</th>\n",
       "      <th>Genres</th>\n",
       "    </tr>\n",
       "  </thead>\n",
       "  <tbody>\n",
       "    <tr>\n",
       "      <th>0</th>\n",
       "      <td>2018-04-27</td>\n",
       "      <td>299536</td>\n",
       "      <td>Avengers: Infinity War</td>\n",
       "      <td>1746239637</td>\n",
       "      <td>149</td>\n",
       "      <td>Adventure</td>\n",
       "    </tr>\n",
       "    <tr>\n",
       "      <th>1</th>\n",
       "      <td>2018-02-16</td>\n",
       "      <td>284054</td>\n",
       "      <td>Black Panther</td>\n",
       "      <td>1146739107</td>\n",
       "      <td>134</td>\n",
       "      <td>Action</td>\n",
       "    </tr>\n",
       "    <tr>\n",
       "      <th>2</th>\n",
       "      <td>2018-06-22</td>\n",
       "      <td>351286</td>\n",
       "      <td>Jurassic World: Fallen Kingdom</td>\n",
       "      <td>1133459585</td>\n",
       "      <td>129</td>\n",
       "      <td>Action</td>\n",
       "    </tr>\n",
       "    <tr>\n",
       "      <th>3</th>\n",
       "      <td>2018-06-15</td>\n",
       "      <td>260513</td>\n",
       "      <td>Incredibles 2</td>\n",
       "      <td>1041891456</td>\n",
       "      <td>118</td>\n",
       "      <td>Action</td>\n",
       "    </tr>\n",
       "    <tr>\n",
       "      <th>4</th>\n",
       "      <td>2018-12-21</td>\n",
       "      <td>297802</td>\n",
       "      <td>Aquaman</td>\n",
       "      <td>983689193</td>\n",
       "      <td>144</td>\n",
       "      <td>Action</td>\n",
       "    </tr>\n",
       "  </tbody>\n",
       "</table>\n",
       "</div>"
      ],
      "text/plain": [
       "  Release_Date      ID                           Title      Profit Runtime  \\\n",
       "0   2018-04-27  299536          Avengers: Infinity War  1746239637     149   \n",
       "1   2018-02-16  284054                   Black Panther  1146739107     134   \n",
       "2   2018-06-22  351286  Jurassic World: Fallen Kingdom  1133459585     129   \n",
       "3   2018-06-15  260513                   Incredibles 2  1041891456     118   \n",
       "4   2018-12-21  297802                         Aquaman   983689193     144   \n",
       "\n",
       "      Genres  \n",
       "0  Adventure  \n",
       "1     Action  \n",
       "2     Action  \n",
       "3     Action  \n",
       "4     Action  "
      ]
     },
     "execution_count": 44,
     "metadata": {},
     "output_type": "execute_result"
    }
   ],
   "source": [
    "moviesData(2018).head()"
   ]
  },
  {
   "cell_type": "code",
   "execution_count": 57,
   "metadata": {},
   "outputs": [],
   "source": [
    "#url=\"https://www.imdb.com/list/ls058011111/?sort=list_order,asc&mode=detail&page=1&ref_=nmls_vm_dtl\"\n",
    "#page=html_soup.find_all(class_=\"lister-item-content\")\n",
    "\n",
    "nameList=pd.DataFrame({\"Rank\":[],\"Name\":[] })\n",
    "for pageindex in [1,2,3,4,5,6,7,8,9,10]:\n",
    "    url=\"https://www.imdb.com/list/ls058011111/?sort=list_order,asc&mode=detail&page=\"+str(pageindex)+\"&ref_=nmls_vm_dtl\"\n",
    "    response = get(url)\n",
    "    html_soup=soup(response.text, \"html.parser\")\n",
    "    page=html_soup.find_all(class_=\"lister-item-content\")\n",
    "    for index, element in enumerate(page):\n",
    "        nameList.loc[len(nameList)]=[index+1+(pageindex-1)*100,element.find_all('a')[0].text[:-1]]\n",
    "    sleep(random.random())"
   ]
  },
  {
   "cell_type": "code",
   "execution_count": 58,
   "metadata": {},
   "outputs": [
    {
     "data": {
      "text/html": [
       "<div>\n",
       "<style scoped>\n",
       "    .dataframe tbody tr th:only-of-type {\n",
       "        vertical-align: middle;\n",
       "    }\n",
       "\n",
       "    .dataframe tbody tr th {\n",
       "        vertical-align: top;\n",
       "    }\n",
       "\n",
       "    .dataframe thead th {\n",
       "        text-align: right;\n",
       "    }\n",
       "</style>\n",
       "<table border=\"1\" class=\"dataframe\">\n",
       "  <thead>\n",
       "    <tr style=\"text-align: right;\">\n",
       "      <th></th>\n",
       "      <th>Rank</th>\n",
       "      <th>Name</th>\n",
       "    </tr>\n",
       "  </thead>\n",
       "  <tbody>\n",
       "    <tr>\n",
       "      <th>0</th>\n",
       "      <td>1.0</td>\n",
       "      <td>Robert De Niro</td>\n",
       "    </tr>\n",
       "    <tr>\n",
       "      <th>1</th>\n",
       "      <td>2.0</td>\n",
       "      <td>Jack Nicholson</td>\n",
       "    </tr>\n",
       "    <tr>\n",
       "      <th>2</th>\n",
       "      <td>3.0</td>\n",
       "      <td>Marlon Brando</td>\n",
       "    </tr>\n",
       "    <tr>\n",
       "      <th>3</th>\n",
       "      <td>4.0</td>\n",
       "      <td>Denzel Washington</td>\n",
       "    </tr>\n",
       "    <tr>\n",
       "      <th>4</th>\n",
       "      <td>5.0</td>\n",
       "      <td>Clark Gable</td>\n",
       "    </tr>\n",
       "  </tbody>\n",
       "</table>\n",
       "</div>"
      ],
      "text/plain": [
       "   Rank                Name\n",
       "0   1.0      Robert De Niro\n",
       "1   2.0      Jack Nicholson\n",
       "2   3.0       Marlon Brando\n",
       "3   4.0   Denzel Washington\n",
       "4   5.0         Clark Gable"
      ]
     },
     "execution_count": 58,
     "metadata": {},
     "output_type": "execute_result"
    }
   ],
   "source": [
    "nameList.head(5)"
   ]
  },
  {
   "cell_type": "code",
   "execution_count": 59,
   "metadata": {},
   "outputs": [],
   "source": [
    "def castRank(castName):\n",
    "    if castName in nameList[\"Name\"]:\n",
    "        return  (nameList[nameList[\"Name\"]==castName])\n",
    "    else :\n",
    "        dfTemp=nameList.copy()\n",
    "        ratioList=[]\n",
    "        for i in nameList[\"Name\"]:\n",
    "            ratio=difflib.SequenceMatcher(None,castName,i).ratio()\n",
    "            ratioList.append(ratio)\n",
    "            \n",
    "        dfTemp[\"Ratio\"]=ratioList\n",
    "        if max(ratioList) == 0:\n",
    "            return (0,0)\n",
    "        elif max(ratioList)>0.7:\n",
    "            dfTemp2=dfTemp[dfTemp[\"Ratio\"]==max(ratioList)].copy()\n",
    "            return (dfTemp2.iloc[0][\"Rank\"],dfTemp2.iloc[0][\"Name\"])\n",
    "        else:\n",
    "            return (0,0)"
   ]
  },
  {
   "cell_type": "code",
   "execution_count": 60,
   "metadata": {},
   "outputs": [],
   "source": [
    "df=moviesData(2015)"
   ]
  },
  {
   "cell_type": "code",
   "execution_count": 61,
   "metadata": {},
   "outputs": [
    {
     "data": {
      "text/html": [
       "<div>\n",
       "<style scoped>\n",
       "    .dataframe tbody tr th:only-of-type {\n",
       "        vertical-align: middle;\n",
       "    }\n",
       "\n",
       "    .dataframe tbody tr th {\n",
       "        vertical-align: top;\n",
       "    }\n",
       "\n",
       "    .dataframe thead th {\n",
       "        text-align: right;\n",
       "    }\n",
       "</style>\n",
       "<table border=\"1\" class=\"dataframe\">\n",
       "  <thead>\n",
       "    <tr style=\"text-align: right;\">\n",
       "      <th></th>\n",
       "      <th>Release_Date</th>\n",
       "      <th>ID</th>\n",
       "      <th>Title</th>\n",
       "      <th>Profit</th>\n",
       "      <th>Runtime</th>\n",
       "      <th>Genres</th>\n",
       "    </tr>\n",
       "  </thead>\n",
       "  <tbody>\n",
       "    <tr>\n",
       "      <th>0</th>\n",
       "      <td>2015-12-18</td>\n",
       "      <td>140607</td>\n",
       "      <td>Star Wars: The Force Awakens</td>\n",
       "      <td>1823223624</td>\n",
       "      <td>136</td>\n",
       "      <td>Action</td>\n",
       "    </tr>\n",
       "    <tr>\n",
       "      <th>1</th>\n",
       "      <td>2015-06-12</td>\n",
       "      <td>135397</td>\n",
       "      <td>Jurassic World</td>\n",
       "      <td>1521713208</td>\n",
       "      <td>124</td>\n",
       "      <td>Action</td>\n",
       "    </tr>\n",
       "    <tr>\n",
       "      <th>2</th>\n",
       "      <td>2015-04-03</td>\n",
       "      <td>168259</td>\n",
       "      <td>Furious 7</td>\n",
       "      <td>1316249360</td>\n",
       "      <td>137</td>\n",
       "      <td>Action</td>\n",
       "    </tr>\n",
       "    <tr>\n",
       "      <th>3</th>\n",
       "      <td>2015-05-01</td>\n",
       "      <td>99861</td>\n",
       "      <td>Avengers: Age of Ultron</td>\n",
       "      <td>1125403694</td>\n",
       "      <td>141</td>\n",
       "      <td>Action</td>\n",
       "    </tr>\n",
       "    <tr>\n",
       "      <th>4</th>\n",
       "      <td>2015-07-10</td>\n",
       "      <td>211672</td>\n",
       "      <td>Minions</td>\n",
       "      <td>1082730962</td>\n",
       "      <td>91</td>\n",
       "      <td>Family</td>\n",
       "    </tr>\n",
       "  </tbody>\n",
       "</table>\n",
       "</div>"
      ],
      "text/plain": [
       "  Release_Date      ID                         Title      Profit Runtime  \\\n",
       "0   2015-12-18  140607  Star Wars: The Force Awakens  1823223624     136   \n",
       "1   2015-06-12  135397                Jurassic World  1521713208     124   \n",
       "2   2015-04-03  168259                     Furious 7  1316249360     137   \n",
       "3   2015-05-01   99861       Avengers: Age of Ultron  1125403694     141   \n",
       "4   2015-07-10  211672                       Minions  1082730962      91   \n",
       "\n",
       "   Genres  \n",
       "0  Action  \n",
       "1  Action  \n",
       "2  Action  \n",
       "3  Action  \n",
       "4  Family  "
      ]
     },
     "execution_count": 61,
     "metadata": {},
     "output_type": "execute_result"
    }
   ],
   "source": [
    "df.head()"
   ]
  },
  {
   "cell_type": "code",
   "execution_count": 62,
   "metadata": {},
   "outputs": [],
   "source": [
    "def castRankList(id):\n",
    "    listFoo=pd.DataFrame({'Rank':[],'Name':[]})\n",
    "    for name in cast(id):\n",
    "        if castRank(name)[0]==0:\n",
    "            pass\n",
    "        else:\n",
    "            listFoo.loc[len(listFoo)]=[castRank(name)[0],castRank(name)[1]]\n",
    "    return listFoo.sort_values('Rank')"
   ]
  },
  {
   "cell_type": "code",
   "execution_count": null,
   "metadata": {},
   "outputs": [],
   "source": []
  },
  {
   "cell_type": "code",
   "execution_count": 63,
   "metadata": {},
   "outputs": [
    {
     "data": {
      "text/html": [
       "<div>\n",
       "<style scoped>\n",
       "    .dataframe tbody tr th:only-of-type {\n",
       "        vertical-align: middle;\n",
       "    }\n",
       "\n",
       "    .dataframe tbody tr th {\n",
       "        vertical-align: top;\n",
       "    }\n",
       "\n",
       "    .dataframe thead th {\n",
       "        text-align: right;\n",
       "    }\n",
       "</style>\n",
       "<table border=\"1\" class=\"dataframe\">\n",
       "  <thead>\n",
       "    <tr style=\"text-align: right;\">\n",
       "      <th></th>\n",
       "      <th>Rank</th>\n",
       "      <th>Name</th>\n",
       "    </tr>\n",
       "  </thead>\n",
       "  <tbody>\n",
       "    <tr>\n",
       "      <th>0</th>\n",
       "      <td>170.0</td>\n",
       "      <td>Chiwetel Ejiofor</td>\n",
       "    </tr>\n",
       "    <tr>\n",
       "      <th>2</th>\n",
       "      <td>462.0</td>\n",
       "      <td>Seth Rogen</td>\n",
       "    </tr>\n",
       "    <tr>\n",
       "      <th>1</th>\n",
       "      <td>991.0</td>\n",
       "      <td>John Krasinski</td>\n",
       "    </tr>\n",
       "  </tbody>\n",
       "</table>\n",
       "</div>"
      ],
      "text/plain": [
       "    Rank               Name\n",
       "0  170.0   Chiwetel Ejiofor\n",
       "2  462.0         Seth Rogen\n",
       "1  991.0     John Krasinski"
      ]
     },
     "execution_count": 63,
     "metadata": {},
     "output_type": "execute_result"
    }
   ],
   "source": [
    "castRankList(420818)"
   ]
  },
  {
   "cell_type": "code",
   "execution_count": 64,
   "metadata": {},
   "outputs": [
    {
     "data": {
      "text/plain": [
       "(0, 0)"
      ]
     },
     "execution_count": 64,
     "metadata": {},
     "output_type": "execute_result"
    }
   ],
   "source": [
    "castRank(\"JACK NICHOLSON\")"
   ]
  },
  {
   "cell_type": "code",
   "execution_count": 65,
   "metadata": {},
   "outputs": [
    {
     "data": {
      "text/html": [
       "<div>\n",
       "<style scoped>\n",
       "    .dataframe tbody tr th:only-of-type {\n",
       "        vertical-align: middle;\n",
       "    }\n",
       "\n",
       "    .dataframe tbody tr th {\n",
       "        vertical-align: top;\n",
       "    }\n",
       "\n",
       "    .dataframe thead th {\n",
       "        text-align: right;\n",
       "    }\n",
       "</style>\n",
       "<table border=\"1\" class=\"dataframe\">\n",
       "  <thead>\n",
       "    <tr style=\"text-align: right;\">\n",
       "      <th></th>\n",
       "      <th>Rank</th>\n",
       "      <th>Name</th>\n",
       "    </tr>\n",
       "  </thead>\n",
       "  <tbody>\n",
       "    <tr>\n",
       "      <th>6</th>\n",
       "      <td>73.0</td>\n",
       "      <td>Don Cheadle</td>\n",
       "    </tr>\n",
       "    <tr>\n",
       "      <th>0</th>\n",
       "      <td>125.0</td>\n",
       "      <td>Robert Downey Jr.</td>\n",
       "    </tr>\n",
       "    <tr>\n",
       "      <th>8</th>\n",
       "      <td>274.0</td>\n",
       "      <td>Benedict Cumberbatch</td>\n",
       "    </tr>\n",
       "    <tr>\n",
       "      <th>4</th>\n",
       "      <td>283.0</td>\n",
       "      <td>Scarlett Johansson</td>\n",
       "    </tr>\n",
       "    <tr>\n",
       "      <th>3</th>\n",
       "      <td>315.0</td>\n",
       "      <td>Chris Hemsworth</td>\n",
       "    </tr>\n",
       "    <tr>\n",
       "      <th>5</th>\n",
       "      <td>454.0</td>\n",
       "      <td>Jeremy Renner</td>\n",
       "    </tr>\n",
       "    <tr>\n",
       "      <th>1</th>\n",
       "      <td>457.0</td>\n",
       "      <td>Chris Evans</td>\n",
       "    </tr>\n",
       "    <tr>\n",
       "      <th>7</th>\n",
       "      <td>465.0</td>\n",
       "      <td>Paul Rudd</td>\n",
       "    </tr>\n",
       "    <tr>\n",
       "      <th>2</th>\n",
       "      <td>516.0</td>\n",
       "      <td>Mark Ruffalo</td>\n",
       "    </tr>\n",
       "  </tbody>\n",
       "</table>\n",
       "</div>"
      ],
      "text/plain": [
       "    Rank                   Name\n",
       "6   73.0            Don Cheadle\n",
       "0  125.0      Robert Downey Jr.\n",
       "8  274.0   Benedict Cumberbatch\n",
       "4  283.0     Scarlett Johansson\n",
       "3  315.0        Chris Hemsworth\n",
       "5  454.0          Jeremy Renner\n",
       "1  457.0            Chris Evans\n",
       "7  465.0              Paul Rudd\n",
       "2  516.0           Mark Ruffalo"
      ]
     },
     "execution_count": 65,
     "metadata": {},
     "output_type": "execute_result"
    }
   ],
   "source": [
    "castRankList(299534)"
   ]
  },
  {
   "cell_type": "code",
   "execution_count": 66,
   "metadata": {},
   "outputs": [],
   "source": [
    "def double(x):\n",
    "    return 2*x\n",
    "    "
   ]
  },
  {
   "cell_type": "code",
   "execution_count": 67,
   "metadata": {},
   "outputs": [
    {
     "data": {
      "text/plain": [
       "4"
      ]
     },
     "execution_count": 67,
     "metadata": {},
     "output_type": "execute_result"
    }
   ],
   "source": [
    "double(2)"
   ]
  },
  {
   "cell_type": "code",
   "execution_count": 68,
   "metadata": {},
   "outputs": [],
   "source": [
    "df2019=moviesData(2019)"
   ]
  },
  {
   "cell_type": "code",
   "execution_count": null,
   "metadata": {},
   "outputs": [],
   "source": [
    "import sqlite3 as db\n"
   ]
  },
  {
   "cell_type": "code",
   "execution_count": 69,
   "metadata": {},
   "outputs": [],
   "source": [
    "import matplotlib.pyplot as plt"
   ]
  },
  {
   "cell_type": "code",
   "execution_count": 72,
   "metadata": {},
   "outputs": [
    {
     "data": {
      "image/png": "[encoded data removed]",
      "text/plain": [
       "<Figure size 432x288 with 1 Axes>"
      ]
     },
     "metadata": {
      "needs_background": "light"
     },
     "output_type": "display_data"
    }
   ],
   "source": [
    "plt.plot(df2019[\"Title\"],df2019[\"Profit\"])\n",
    "plt.xticks(df2019[\"Title\"], rotation=90)\n",
    "plt.show()"
   ]
  },
  {
   "cell_type": "code",
   "execution_count": 2,
   "metadata": {},
   "outputs": [
    {
     "name": "stdout",
     "output_type": "stream",
     "text": [
      "MovieDataBase.ipynb          actorRank.db\r\n",
      "MovieDataBase.ipynb (1).zip  moviesData\r\n",
      "MovieDataBase.ipynb.zip      premoviedb.ipynb\r\n"
     ]
    }
   ],
   "source": [
    "ls"
   ]
  },
  {
   "cell_type": "code",
   "execution_count": 3,
   "metadata": {},
   "outputs": [],
   "source": [
    "df = pd.read_csv('moviesData')"
   ]
  },
  {
   "cell_type": "code",
   "execution_count": 7,
   "metadata": {},
   "outputs": [
    {
     "ename": "NameError",
     "evalue": "name 'pplot' is not defined",
     "output_type": "error",
     "traceback": [
      "\u001b[0;31m---------------------------------------------------------------------------\u001b[0m",
      "\u001b[0;31mNameError\u001b[0m                                 Traceback (most recent call last)",
      "\u001b[0;32m<ipython-input-7-72e1d53275c4>\u001b[0m in \u001b[0;36m<module>\u001b[0;34m\u001b[0m\n\u001b[0;32m----> 1\u001b[0;31m \u001b[0mpplot\u001b[0m\u001b[0;34m.\u001b[0m\u001b[0mdf\u001b[0m\u001b[0;34m\u001b[0m\u001b[0;34m\u001b[0m\u001b[0m\n\u001b[0m",
      "\u001b[0;31mNameError\u001b[0m: name 'pplot' is not defined"
     ]
    }
   ],
   "source": [
    "pplot.df"
   ]
  },
  {
   "cell_type": "code",
   "execution_count": null,
   "metadata": {},
   "outputs": [],
   "source": []
  }
 ],
 "metadata": {
  "kernelspec": {
   "display_name": "Python 3",
   "language": "python",
   "name": "python3"
  },
  "language_info": {
   "codemirror_mode": {
    "name": "ipython",
    "version": 3
   },
   "file_extension": ".py",
   "mimetype": "text/x-python",
   "name": "python",
   "nbconvert_exporter": "python",
   "pygments_lexer": "ipython3",
   "version": "3.7.3"
  }
 },
 "nbformat": 4,
 "nbformat_minor": 2
}
