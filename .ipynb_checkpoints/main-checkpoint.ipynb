{
 "cells": [
  {
   "cell_type": "markdown",
   "metadata": {},
   "source": [
    "This is where we work"
   ]
  },
  {
   "cell_type": "code",
   "execution_count": 5,
   "metadata": {},
   "outputs": [],
   "source": [
    "import pandas as pd\n",
    "import sqlite3\n",
    "import requests\n",
    "\n",
    "#Import all the function needed to answer the actor/actress question\n",
    "#Contain: castRankList(ID), castRank(Name), cast(ID)\n",
    "from castFunctions import functions"
   ]
  },
  {
   "cell_type": "code",
   "execution_count": 6,
   "metadata": {},
   "outputs": [],
   "source": [
    "#Aquire and clean the data\n",
    "df=pd.read_csv(\"moviesData\")\n",
    "df=df.drop(columns=['Unnamed: 0'])"
   ]
  },
  {
   "cell_type": "code",
   "execution_count": 7,
   "metadata": {},
   "outputs": [],
   "source": [
    "#Instanitiate a class ob\n",
    "f=functions()"
   ]
  },
  {
   "cell_type": "code",
   "execution_count": 11,
   "metadata": {},
   "outputs": [
    {
     "data": {
      "text/html": [
       "<div>\n",
       "<style scoped>\n",
       "    .dataframe tbody tr th:only-of-type {\n",
       "        vertical-align: middle;\n",
       "    }\n",
       "\n",
       "    .dataframe tbody tr th {\n",
       "        vertical-align: top;\n",
       "    }\n",
       "\n",
       "    .dataframe thead th {\n",
       "        text-align: right;\n",
       "    }\n",
       "</style>\n",
       "<table border=\"1\" class=\"dataframe\">\n",
       "  <thead>\n",
       "    <tr style=\"text-align: right;\">\n",
       "      <th></th>\n",
       "      <th>Release_Date</th>\n",
       "      <th>ID</th>\n",
       "      <th>Title</th>\n",
       "      <th>Budget</th>\n",
       "      <th>Revenue</th>\n",
       "      <th>Profit</th>\n",
       "      <th>Runtime</th>\n",
       "      <th>Rating</th>\n",
       "      <th>Genres</th>\n",
       "    </tr>\n",
       "  </thead>\n",
       "  <tbody>\n",
       "    <tr>\n",
       "      <th>0</th>\n",
       "      <td>2009-12-18</td>\n",
       "      <td>19995</td>\n",
       "      <td>Avatar</td>\n",
       "      <td>237000000</td>\n",
       "      <td>2787965087</td>\n",
       "      <td>2550965087</td>\n",
       "      <td>162</td>\n",
       "      <td>7.4</td>\n",
       "      <td>['Action', 'Adventure', 'Fantasy', 'Science Fi...</td>\n",
       "    </tr>\n",
       "    <tr>\n",
       "      <th>1</th>\n",
       "      <td>2009-07-08</td>\n",
       "      <td>767</td>\n",
       "      <td>Harry Potter and the Half-Blood Prince</td>\n",
       "      <td>250000000</td>\n",
       "      <td>933959197</td>\n",
       "      <td>683959197</td>\n",
       "      <td>153</td>\n",
       "      <td>7.6</td>\n",
       "      <td>['Adventure', 'Fantasy', 'Family']</td>\n",
       "    </tr>\n",
       "    <tr>\n",
       "      <th>2</th>\n",
       "      <td>2009-07-01</td>\n",
       "      <td>8355</td>\n",
       "      <td>Ice Age: Dawn of the Dinosaurs</td>\n",
       "      <td>90000000</td>\n",
       "      <td>886686817</td>\n",
       "      <td>796686817</td>\n",
       "      <td>94</td>\n",
       "      <td>6.6</td>\n",
       "      <td>['Animation', 'Comedy', 'Family', 'Adventure']</td>\n",
       "    </tr>\n",
       "    <tr>\n",
       "      <th>3</th>\n",
       "      <td>2009-06-23</td>\n",
       "      <td>8373</td>\n",
       "      <td>Transformers: Revenge of the Fallen</td>\n",
       "      <td>150000000</td>\n",
       "      <td>836297228</td>\n",
       "      <td>686297228</td>\n",
       "      <td>150</td>\n",
       "      <td>6.0</td>\n",
       "      <td>['Science Fiction', 'Action', 'Adventure']</td>\n",
       "    </tr>\n",
       "    <tr>\n",
       "      <th>4</th>\n",
       "      <td>2009-10-10</td>\n",
       "      <td>14161</td>\n",
       "      <td>2012</td>\n",
       "      <td>200000000</td>\n",
       "      <td>769653595</td>\n",
       "      <td>569653595</td>\n",
       "      <td>158</td>\n",
       "      <td>5.7</td>\n",
       "      <td>['Action', 'Adventure', 'Science Fiction']</td>\n",
       "    </tr>\n",
       "  </tbody>\n",
       "</table>\n",
       "</div>"
      ],
      "text/plain": [
       "  Release_Date     ID                                   Title     Budget  \\\n",
       "0   2009-12-18  19995                                  Avatar  237000000   \n",
       "1   2009-07-08    767  Harry Potter and the Half-Blood Prince  250000000   \n",
       "2   2009-07-01   8355          Ice Age: Dawn of the Dinosaurs   90000000   \n",
       "3   2009-06-23   8373     Transformers: Revenge of the Fallen  150000000   \n",
       "4   2009-10-10  14161                                    2012  200000000   \n",
       "\n",
       "      Revenue      Profit  Runtime  Rating  \\\n",
       "0  2787965087  2550965087      162     7.4   \n",
       "1   933959197   683959197      153     7.6   \n",
       "2   886686817   796686817       94     6.6   \n",
       "3   836297228   686297228      150     6.0   \n",
       "4   769653595   569653595      158     5.7   \n",
       "\n",
       "                                              Genres  \n",
       "0  ['Action', 'Adventure', 'Fantasy', 'Science Fi...  \n",
       "1                 ['Adventure', 'Fantasy', 'Family']  \n",
       "2     ['Animation', 'Comedy', 'Family', 'Adventure']  \n",
       "3         ['Science Fiction', 'Action', 'Adventure']  \n",
       "4         ['Action', 'Adventure', 'Science Fiction']  "
      ]
     },
     "execution_count": 11,
     "metadata": {},
     "output_type": "execute_result"
    }
   ],
   "source": [
    "df.head()"
   ]
  },
  {
   "cell_type": "code",
   "execution_count": null,
   "metadata": {},
   "outputs": [],
   "source": []
  }
 ],
 "metadata": {
  "kernelspec": {
   "display_name": "Python 3",
   "language": "python",
   "name": "python3"
  },
  "language_info": {
   "codemirror_mode": {
    "name": "ipython",
    "version": 3
   },
   "file_extension": ".py",
   "mimetype": "text/x-python",
   "name": "python",
   "nbconvert_exporter": "python",
   "pygments_lexer": "ipython3",
   "version": "3.7.3"
  }
 },
 "nbformat": 4,
 "nbformat_minor": 2
}
