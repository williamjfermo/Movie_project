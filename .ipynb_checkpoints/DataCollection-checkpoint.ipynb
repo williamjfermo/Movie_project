{
 "cells": [
  {
   "cell_type": "code",
   "execution_count": 3,
   "metadata": {},
   "outputs": [],
   "source": [
    "import pandas as pd\n",
    "import random #Randomize the time\n",
    "import requests\n",
    "from time import sleep\n",
    "from requests import get #Time delay for webscraping\n",
    "\n",
    "from bs4 import BeautifulSoup as soup #Webscaping\n",
    "import sqlite3 \n",
    "from api_key import key\n",
    "\n",
    "#Change your API Key here\n",
    "api_key = key"
   ]
  },
  {
   "cell_type": "markdown",
   "metadata": {},
   "source": [
    "1) SQL Database "
   ]
  },
  {
   "cell_type": "code",
   "execution_count": 4,
   "metadata": {},
   "outputs": [],
   "source": [
    "#Scrape 10 different pages to get the list of 1000 top actors\n",
    "nameList=pd.DataFrame({\"Rank\":[],\"Name\":[] })\n",
    "for pageindex in [1,2,3,4,5,6,7,8,9,10]:\n",
    "    url=\"https://www.imdb.com/list/ls058011111/?sort=list_order,asc&mode=detail&page=\"+str(pageindex)+\"&ref_=nmls_vm_dtl\"\n",
    "    response = get(url)\n",
    "    html_soup=soup(response.text, \"html.parser\")\n",
    "    page=html_soup.find_all(class_=\"lister-item-content\")\n",
    "    for index, element in enumerate(page):\n",
    "        nameList.loc[len(nameList)]=[index+1+(pageindex-1)*100,element.find_all('a')[0].text[:-1]]\n",
    "    #This function randomize the delay time to avoid overload a website\n",
    "    sleep(random.random())"
   ]
  },
  {
   "cell_type": "code",
   "execution_count": null,
   "metadata": {},
   "outputs": [],
   "source": [
    "#Create a rank List database\n",
    "!rm 'actorRank.db' #Avoid duplicating the file\n",
    "conn = sqlite3.connect('actorRank.db')\n",
    "cur=conn.cursor()\n",
    "\n",
    "#Create table \"rank\" in the \"actorRank\" database. This have 2 columns: Rank, Name\n",
    "cur.execute(\"\"\"CREATE TABLE rank(Rank Integer, Name TEXT);\"\"\")\n",
    "\n",
    "#Insert values from the \"nameList\" created above to the table\n",
    "for i in range(nameList.shape[0]):\n",
    "    name=nameList['Name'][i].replace(\"'\",\" \")\n",
    "    rank=nameList['Rank'][i]\n",
    "    #Note that there is a '' around {}\n",
    "    cur.execute(\"\"\"INSERT INTO rank (Rank,Name) VALUES ({},'{}');\"\"\".format(rank,name))\n",
    "\n",
    "conn.commit()"
   ]
  },
  {
   "cell_type": "markdown",
   "metadata": {},
   "source": [
    "2) Movies CVS"
   ]
  },
  {
   "cell_type": "code",
   "execution_count": 5,
   "metadata": {},
   "outputs": [],
   "source": [
    "#Given a year, return data frame of that year\n",
    "\n",
    "def moviesData(year):\n",
    "    urlDiscover='https://api.themoviedb.org/3/discover/movie?api_key='\n",
    "    searchkey='&primary_release_year='+str(year)+'&sort_by=revenue.desc'\n",
    "    response = requests.get(urlDiscover + api_key + searchkey)\n",
    "    revenueResult = response.json() \n",
    "    revenueResultLimit= revenueResult['results']\n",
    "\n",
    "    df = pd.DataFrame(columns=['Release_Date','ID','Title','Budget','Revenue','Profit','Runtime','Rating','Genres'])\n",
    "    \n",
    "    for film in revenueResultLimit:\n",
    "        filmDetails = requests.get('https://api.themoviedb.org/3/movie/'+ str(film['id']) +'?api_key='+ api_key +'&language=en-US')\n",
    "        filmDetails = filmDetails.json()\n",
    "        profit=filmDetails['revenue']-filmDetails['budget']\n",
    "        df.loc[len(df)]=[film['release_date'],film['id'],film['title'],filmDetails['budget'],filmDetails['revenue'], profit,filmDetails['runtime'],filmDetails['vote_average'],genres(filmDetails)]\n",
    "    return df"
   ]
  },
  {
   "cell_type": "code",
   "execution_count": 6,
   "metadata": {},
   "outputs": [],
   "source": [
    "#This is a supplement function for the above function\n",
    "#Give the json file \"filmDetails\", return the list of all genres\n",
    "def genres(filmDetails):\n",
    "    genresList=[]\n",
    "    for i in range(len(filmDetails['genres'])):\n",
    "        genresList.append(filmDetails['genres'][i]['name'])\n",
    "    return genresList"
   ]
  },
  {
   "cell_type": "code",
   "execution_count": null,
   "metadata": {},
   "outputs": [],
   "source": [
    "#Create a list of Data Frame from 2009 to 2019\n",
    "yearList=[]\n",
    "for i in range(11):\n",
    "    year=2009+i\n",
    "    yearList.append(moviesData(year))\n",
    "    sleep(6)"
   ]
  },
  {
   "cell_type": "code",
   "execution_count": null,
   "metadata": {},
   "outputs": [],
   "source": [
    "#Create a df of all 10 years\n",
    "!rm moviesData\n",
    "df=pd.concat(yearList,ignore_index=True)\n",
    "#Save that df in a csv file\n",
    "df.to_csv('moviesData')"
   ]
  },
  {
   "cell_type": "code",
   "execution_count": 27,
   "metadata": {},
   "outputs": [
    {
     "data": {
      "text/html": [
       "<div>\n",
       "<style scoped>\n",
       "    .dataframe tbody tr th:only-of-type {\n",
       "        vertical-align: middle;\n",
       "    }\n",
       "\n",
       "    .dataframe tbody tr th {\n",
       "        vertical-align: top;\n",
       "    }\n",
       "\n",
       "    .dataframe thead th {\n",
       "        text-align: right;\n",
       "    }\n",
       "</style>\n",
       "<table border=\"1\" class=\"dataframe\">\n",
       "  <thead>\n",
       "    <tr style=\"text-align: right;\">\n",
       "      <th></th>\n",
       "      <th>Release_Date</th>\n",
       "      <th>ID</th>\n",
       "      <th>Title</th>\n",
       "      <th>Budget</th>\n",
       "      <th>Revenue</th>\n",
       "      <th>Profit</th>\n",
       "      <th>Runtime</th>\n",
       "      <th>Rating</th>\n",
       "      <th>Genres</th>\n",
       "    </tr>\n",
       "  </thead>\n",
       "  <tbody>\n",
       "    <tr>\n",
       "      <th>0</th>\n",
       "      <td>2009-12-18</td>\n",
       "      <td>19995</td>\n",
       "      <td>Avatar</td>\n",
       "      <td>237000000</td>\n",
       "      <td>2787965087</td>\n",
       "      <td>2550965087</td>\n",
       "      <td>162</td>\n",
       "      <td>7.4</td>\n",
       "      <td>[Action, Adventure, Fantasy, Science Fiction]</td>\n",
       "    </tr>\n",
       "    <tr>\n",
       "      <th>1</th>\n",
       "      <td>2009-07-08</td>\n",
       "      <td>767</td>\n",
       "      <td>Harry Potter and the Half-Blood Prince</td>\n",
       "      <td>250000000</td>\n",
       "      <td>933959197</td>\n",
       "      <td>683959197</td>\n",
       "      <td>153</td>\n",
       "      <td>7.6</td>\n",
       "      <td>[Adventure, Fantasy, Family]</td>\n",
       "    </tr>\n",
       "    <tr>\n",
       "      <th>2</th>\n",
       "      <td>2009-07-01</td>\n",
       "      <td>8355</td>\n",
       "      <td>Ice Age: Dawn of the Dinosaurs</td>\n",
       "      <td>90000000</td>\n",
       "      <td>886686817</td>\n",
       "      <td>796686817</td>\n",
       "      <td>94</td>\n",
       "      <td>6.6</td>\n",
       "      <td>[Animation, Comedy, Family, Adventure]</td>\n",
       "    </tr>\n",
       "    <tr>\n",
       "      <th>3</th>\n",
       "      <td>2009-06-23</td>\n",
       "      <td>8373</td>\n",
       "      <td>Transformers: Revenge of the Fallen</td>\n",
       "      <td>150000000</td>\n",
       "      <td>836297228</td>\n",
       "      <td>686297228</td>\n",
       "      <td>150</td>\n",
       "      <td>6.0</td>\n",
       "      <td>[Science Fiction, Action, Adventure]</td>\n",
       "    </tr>\n",
       "    <tr>\n",
       "      <th>4</th>\n",
       "      <td>2009-10-10</td>\n",
       "      <td>14161</td>\n",
       "      <td>2012</td>\n",
       "      <td>200000000</td>\n",
       "      <td>769653595</td>\n",
       "      <td>569653595</td>\n",
       "      <td>158</td>\n",
       "      <td>5.7</td>\n",
       "      <td>[Action, Adventure, Science Fiction]</td>\n",
       "    </tr>\n",
       "  </tbody>\n",
       "</table>\n",
       "</div>"
      ],
      "text/plain": [
       "  Release_Date     ID                                   Title     Budget  \\\n",
       "0   2009-12-18  19995                                  Avatar  237000000   \n",
       "1   2009-07-08    767  Harry Potter and the Half-Blood Prince  250000000   \n",
       "2   2009-07-01   8355          Ice Age: Dawn of the Dinosaurs   90000000   \n",
       "3   2009-06-23   8373     Transformers: Revenge of the Fallen  150000000   \n",
       "4   2009-10-10  14161                                    2012  200000000   \n",
       "\n",
       "      Revenue      Profit Runtime  Rating  \\\n",
       "0  2787965087  2550965087     162     7.4   \n",
       "1   933959197   683959197     153     7.6   \n",
       "2   886686817   796686817      94     6.6   \n",
       "3   836297228   686297228     150     6.0   \n",
       "4   769653595   569653595     158     5.7   \n",
       "\n",
       "                                          Genres  \n",
       "0  [Action, Adventure, Fantasy, Science Fiction]  \n",
       "1                   [Adventure, Fantasy, Family]  \n",
       "2         [Animation, Comedy, Family, Adventure]  \n",
       "3           [Science Fiction, Action, Adventure]  \n",
       "4           [Action, Adventure, Science Fiction]  "
      ]
     },
     "execution_count": 27,
     "metadata": {},
     "output_type": "execute_result"
    }
   ],
   "source": [
    "df.head()"
   ]
  },
  {
   "cell_type": "code",
   "execution_count": null,
   "metadata": {},
   "outputs": [],
   "source": []
  }
 ],
 "metadata": {
  "kernelspec": {
   "display_name": "Python 3",
   "language": "python",
   "name": "python3"
  },
  "language_info": {
   "codemirror_mode": {
    "name": "ipython",
    "version": 3
   },
   "file_extension": ".py",
   "mimetype": "text/x-python",
   "name": "python",
   "nbconvert_exporter": "python",
   "pygments_lexer": "ipython3",
   "version": "3.7.3"
  }
 },
 "nbformat": 4,
 "nbformat_minor": 2
}
