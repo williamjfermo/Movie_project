{
 "cells": [
  {
   "cell_type": "code",
   "execution_count": 3,
   "metadata": {},
   "outputs": [],
   "source": [
    "import pandas as pd\n",
    "import random #Randomize the time\n",
    "import requests\n",
    "from time import sleep\n",
    "from requests import get #Time delay for webscraping\n",
    "\n",
    "from bs4 import BeautifulSoup as soup #Webscaping\n",
    "import sqlite3 \n",
    "from api_key import key\n",
    "\n",
    "#Change your API Key here\n",
    "api_key = key"
   ]
  },
  {
   "cell_type": "markdown",
   "metadata": {},
   "source": [
    "1) SQL Database "
   ]
  },
  {
   "cell_type": "code",
   "execution_count": 4,
   "metadata": {},
   "outputs": [],
   "source": [
    "#Scrape 10 different pages to get the list of 1000 top actors\n",
    "nameList=pd.DataFrame({\"Rank\":[],\"Name\":[] })\n",
    "for pageindex in [1,2,3,4,5,6,7,8,9,10]:\n",
    "    url=\"https://www.imdb.com/list/ls058011111/?sort=list_order,asc&mode=detail&page=\"+str(pageindex)+\"&ref_=nmls_vm_dtl\"\n",
    "    response = get(url)\n",
    "    html_soup=soup(response.text, \"html.parser\")\n",
    "    page=html_soup.find_all(class_=\"lister-item-content\")\n",
    "    for index, element in enumerate(page):\n",
    "        nameList.loc[len(nameList)]=[index+1+(pageindex-1)*100,element.find_all('a')[0].text[:-1]]\n",
    "    #This function randomize the delay time to avoid overload a website\n",
    "    sleep(random.random())"
   ]
  },
  {
   "cell_type": "code",
   "execution_count": null,
   "metadata": {},
   "outputs": [],
   "source": [
    "#Create a rank List database\n",
    "!rm 'actorRank.db' #Avoid duplicating the file\n",
    "conn = sqlite3.connect('actorRank.db')\n",
    "cur=conn.cursor()\n",
    "\n",
    "#Create table \"rank\" in the \"actorRank\" database. This have 2 columns: Rank, Name\n",
    "cur.execute(\"\"\"CREATE TABLE rank(Rank Integer, Name TEXT);\"\"\")\n",
    "\n",
    "#Insert values from the \"nameList\" created above to the table\n",
    "for i in range(nameList.shape[0]):\n",
    "    name=nameList['Name'][i].replace(\"'\",\" \")\n",
    "    rank=nameList['Rank'][i]\n",
    "    #Note that there is a '' around {}\n",
    "    cur.execute(\"\"\"INSERT INTO rank (Rank,Name) VALUES ({},'{}');\"\"\".format(rank,name))\n",
    "\n",
    "conn.commit()"
   ]
  },
  {
   "cell_type": "markdown",
   "metadata": {},
   "source": [
    "2) Movies CVS"
   ]
  },
  {
   "cell_type": "code",
   "execution_count": 5,
   "metadata": {},
   "outputs": [],
   "source": [
    "#Given a year, return data frame of that year\n",
    "\n",
    "def moviesData(year):\n",
    "    urlDiscover='https://api.themoviedb.org/3/discover/movie?api_key='\n",
    "    searchkey='&primary_release_year='+str(year)+'&sort_by=revenue.desc'\n",
    "    response = requests.get(urlDiscover + api_key + searchkey)\n",
    "    revenueResult = response.json() \n",
    "    revenueResultLimit= revenueResult['results']\n",
    "\n",
    "    df = pd.DataFrame(columns=['Release_Date','ID','Title','Budget','Revenue','Profit','Runtime','Rating','Genres'])\n",
    "    \n",
    "    for film in revenueResultLimit:\n",
    "        filmDetails = requests.get('https://api.themoviedb.org/3/movie/'+ str(film['id']) +'?api_key='+ api_key +'&language=en-US&append_to_response=release_dates')\n",
    "        filmDetails = filmDetails.json()\n",
    "        profit=filmDetails['revenue']-filmDetails['budget']\n",
    "        df.loc[len(df)]=[film['release_date'],film['id'],film['title'],filmDetails['budget'],filmDetails['revenue'], profit,filmDetails['runtime'],filmDetails['vote_average'],genres(filmDetails)]\n",
    "    return df"
   ]
  },
  {
   "cell_type": "code",
   "execution_count": 6,
   "metadata": {},
   "outputs": [],
   "source": [
    "#This is a supplement function for the above function\n",
    "#Give the json file \"filmDetails\", return the list of all genres\n",
    "def genres(filmDetails):\n",
    "    genresList=[]\n",
    "    for i in range(len(filmDetails['genres'])):\n",
    "        genresList.append(filmDetails['genres'][i]['name'])\n",
    "    return genresList"
   ]
  },
  {
   "cell_type": "code",
   "execution_count": 7,
   "metadata": {},
   "outputs": [],
   "source": [
    "#Create a list of Data Frame from 2009 to 2019\n",
    "yearList=[]\n",
    "for i in range(11):\n",
    "    year=2009+i\n",
    "    yearList.append(moviesData(year))\n",
    "    sleep(6)"
   ]
  },
  {
   "cell_type": "code",
   "execution_count": 8,
   "metadata": {},
   "outputs": [],
   "source": [
    "#Create a df of all 10 years\n",
    "!rm moviesData\n",
    "df=pd.concat(yearList,ignore_index=True)\n",
    "#Save that df in a csv file\n",
    "df.to_csv('moviesData')"
   ]
  },
  {
   "cell_type": "code",
   "execution_count": 10,
   "metadata": {},
   "outputs": [
    {
     "data": {
      "text/html": [
       "<div>\n",
       "<style scoped>\n",
       "    .dataframe tbody tr th:only-of-type {\n",
       "        vertical-align: middle;\n",
       "    }\n",
       "\n",
       "    .dataframe tbody tr th {\n",
       "        vertical-align: top;\n",
       "    }\n",
       "\n",
       "    .dataframe thead th {\n",
       "        text-align: right;\n",
       "    }\n",
       "</style>\n",
       "<table border=\"1\" class=\"dataframe\">\n",
       "  <thead>\n",
       "    <tr style=\"text-align: right;\">\n",
       "      <th></th>\n",
       "      <th>Release_Date</th>\n",
       "      <th>ID</th>\n",
       "      <th>Title</th>\n",
       "      <th>Budget</th>\n",
       "      <th>Revenue</th>\n",
       "      <th>Profit</th>\n",
       "      <th>Runtime</th>\n",
       "      <th>Rating</th>\n",
       "      <th>Genres</th>\n",
       "    </tr>\n",
       "  </thead>\n",
       "  <tbody>\n",
       "    <tr>\n",
       "      <th>215</th>\n",
       "      <td>2019-06-14</td>\n",
       "      <td>479455</td>\n",
       "      <td>Men in Black: International</td>\n",
       "      <td>110000000</td>\n",
       "      <td>252608480</td>\n",
       "      <td>142608480</td>\n",
       "      <td>115</td>\n",
       "      <td>5.9</td>\n",
       "      <td>[Action, Comedy, Science Fiction, Adventure]</td>\n",
       "    </tr>\n",
       "    <tr>\n",
       "      <th>216</th>\n",
       "      <td>2019-01-18</td>\n",
       "      <td>450465</td>\n",
       "      <td>Glass</td>\n",
       "      <td>20000000</td>\n",
       "      <td>246941965</td>\n",
       "      <td>226941965</td>\n",
       "      <td>129</td>\n",
       "      <td>6.6</td>\n",
       "      <td>[Thriller, Drama, Science Fiction]</td>\n",
       "    </tr>\n",
       "    <tr>\n",
       "      <th>217</th>\n",
       "      <td>2019-06-07</td>\n",
       "      <td>320288</td>\n",
       "      <td>Dark Phoenix</td>\n",
       "      <td>200000000</td>\n",
       "      <td>245000000</td>\n",
       "      <td>45000000</td>\n",
       "      <td>114</td>\n",
       "      <td>6.1</td>\n",
       "      <td>[Science Fiction, Action, Adventure]</td>\n",
       "    </tr>\n",
       "    <tr>\n",
       "      <th>218</th>\n",
       "      <td>2019-09-06</td>\n",
       "      <td>474350</td>\n",
       "      <td>It Chapter Two</td>\n",
       "      <td>79000000</td>\n",
       "      <td>237168524</td>\n",
       "      <td>158168524</td>\n",
       "      <td>169</td>\n",
       "      <td>7.2</td>\n",
       "      <td>[Horror, Comedy]</td>\n",
       "    </tr>\n",
       "    <tr>\n",
       "      <th>219</th>\n",
       "      <td>2019-03-29</td>\n",
       "      <td>329996</td>\n",
       "      <td>Dumbo</td>\n",
       "      <td>170000000</td>\n",
       "      <td>215832199</td>\n",
       "      <td>45832199</td>\n",
       "      <td>112</td>\n",
       "      <td>6.6</td>\n",
       "      <td>[Adventure, Family, Fantasy]</td>\n",
       "    </tr>\n",
       "  </tbody>\n",
       "</table>\n",
       "</div>"
      ],
      "text/plain": [
       "    Release_Date      ID                        Title     Budget    Revenue  \\\n",
       "215   2019-06-14  479455  Men in Black: International  110000000  252608480   \n",
       "216   2019-01-18  450465                        Glass   20000000  246941965   \n",
       "217   2019-06-07  320288                 Dark Phoenix  200000000  245000000   \n",
       "218   2019-09-06  474350               It Chapter Two   79000000  237168524   \n",
       "219   2019-03-29  329996                        Dumbo  170000000  215832199   \n",
       "\n",
       "        Profit Runtime  Rating                                        Genres  \n",
       "215  142608480     115     5.9  [Action, Comedy, Science Fiction, Adventure]  \n",
       "216  226941965     129     6.6            [Thriller, Drama, Science Fiction]  \n",
       "217   45000000     114     6.1          [Science Fiction, Action, Adventure]  \n",
       "218  158168524     169     7.2                              [Horror, Comedy]  \n",
       "219   45832199     112     6.6                  [Adventure, Family, Fantasy]  "
      ]
     },
     "execution_count": 10,
     "metadata": {},
     "output_type": "execute_result"
    }
   ],
   "source": [
    "df.tail()"
   ]
  },
  {
   "cell_type": "code",
   "execution_count": null,
   "metadata": {},
   "outputs": [],
   "source": [
    "test = https://api.themoviedb.org/3/movie/479455/release_dates?api_key=cf92d1cf751a68bde1f3b3aa76b677be\n"
   ]
  },
  {
   "cell_type": "code",
   "execution_count": 2,
   "metadata": {},
   "outputs": [
    {
     "data": {
      "text/plain": [
       "\"YOU'RE SHOUTING!\""
      ]
     },
     "execution_count": 2,
     "metadata": {},
     "output_type": "execute_result"
    }
   ],
   "source": [
    "def shout(phrase):\n",
    "  if phrase == phrase.upper():\n",
    "    return \"YOU'RE SHOUTING!\"\n",
    "  else:\n",
    "    return \"Can you speak up?\"\n",
    "\n",
    "shout(\"HELLO\")"
   ]
  },
  {
   "cell_type": "code",
   "execution_count": null,
   "metadata": {},
   "outputs": [],
   "source": []
  }
 ],
 "metadata": {
  "kernelspec": {
   "display_name": "Python 3",
   "language": "python",
   "name": "python3"
  },
  "language_info": {
   "codemirror_mode": {
    "name": "ipython",
    "version": 3
   },
   "file_extension": ".py",
   "mimetype": "text/x-python",
   "name": "python",
   "nbconvert_exporter": "python",
   "pygments_lexer": "ipython3",
   "version": "3.7.3"
  }
 },
 "nbformat": 4,
 "nbformat_minor": 2
}
